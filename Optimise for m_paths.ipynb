{
 "cells": [
  {
   "cell_type": "code",
   "execution_count": 1,
   "id": "3045c41e",
   "metadata": {},
   "outputs": [],
   "source": [
    "import numpy as np\n",
    "import pandas as pd\n",
    "import os\n",
    "import geopandas as gpd\n",
    "from scipy import stats\n",
    "import scipy.optimize\n",
    "\n",
    "import time\n",
    "import powerlaw\n",
    "import pickle5 as pickle\n",
    "import seaborn as sns\n",
    "import matplotlib.pyplot as plt\n",
    "import matplotlib.gridspec as gridspec\n",
    "\n",
    "from pymoo.core.problem import Problem"
   ]
  },
  {
   "cell_type": "code",
   "execution_count": 2,
   "id": "f12791e7",
   "metadata": {},
   "outputs": [],
   "source": [
    "#Unpickling the data\n",
    "def load_obj(name):\n",
    "    with open('resources/' + name + '.pkl', 'rb') as f:\n",
    "        return pickle.load(f)"
   ]
  },
  {
   "cell_type": "code",
   "execution_count": 5,
   "id": "483f6ed3",
   "metadata": {},
   "outputs": [],
   "source": [
    "class MyProblem(Problem):\n",
    "\n",
    "    def __init__(self):\n",
    "        super().__init__(n_var=1, n_obj=1, n_ieq_constr=2, xl=0.0, xu=1.0)\n",
    "\n",
    "    def _evaluate(self, x, out, *args, **kwargs):\n",
    "        out[\"F\"] = np.sum((x - 0.5) ** 2, axis=1)\n",
    "        out[\"G\"] = 0.1 - out[\"F\"]"
   ]
  },
  {
   "cell_type": "code",
   "execution_count": null,
   "id": "a0e46f15",
   "metadata": {},
   "outputs": [],
   "source": []
  },
  {
   "cell_type": "code",
   "execution_count": 3,
   "id": "e3b920ac",
   "metadata": {},
   "outputs": [],
   "source": [
    "# Bus adjacency\n",
    "def bus_adjacency(stoproute,lsoa_list,route_freqs):\n",
    "    # Create matrix that combines location data and route frequencies\n",
    "    combine = pd.merge(stoproute, route_freqs, on='line')\n",
    "    combine = combine.drop_duplicates(['line', 'naptan_sto'])\n",
    "    combine = combine.rename(columns={'geo_code':'lsoa11cd'})\n",
    "\n",
    "    # Create adjacency matrix LSOA x route\n",
    "    bstopfreq = combine[['lsoa11cd', 'naptan_sto', 'line', 'average']]\n",
    "    adj = pd.pivot(bstopfreq,index=[\"lsoa11cd\", \"naptan_sto\"], columns=\"line\", values=\"average\").fillna(0)\n",
    "    adj = adj.astype(float)\n",
    "    adj = adj.groupby(level=\"lsoa11cd\").mean()\n",
    "    bus2route = pd.merge(lsoa_list, adj, how='left',on='lsoa11cd').set_index('lsoa11cd')\n",
    "\n",
    "    #Adjacency matrix LSOA x LSOA\n",
    "    bus2route = np.array(bus2route)\n",
    "    bus2routeT = bus2route.transpose()\n",
    "    lsoa2lsoa = np.dot(bus2route,bus2routeT)**0.5 #check that this actually does whay I think it does\n",
    "    lsoa2lsoa[np.diag_indices_from(lsoa2lsoa)] = 0\n",
    "\n",
    "    lsoa2lsoa = pd.DataFrame(lsoa2lsoa)\n",
    "    lsoa2lsoa = lsoa2lsoa.fillna(0)\n",
    "\n",
    "    #m values created\n",
    "    m_bus = np.round(lsoa2lsoa.copy(),0)\n",
    "    m_bus[m_bus>0]=np.log10(m_bus[m_bus>0])\n",
    "    m_bus=1-(m_bus/np.max(np.max(m_bus)))\n",
    "    m_bus[m_bus==0]=np.min(np.min(m_bus[m_bus!=0]))\n",
    "    \n",
    "    return m_bus.values"
   ]
  },
  {
   "cell_type": "code",
   "execution_count": 4,
   "id": "98cef386",
   "metadata": {},
   "outputs": [],
   "source": [
    "# Attractivity samples - median/neighbourhood, directional \n",
    "def attractivity_median_sampler(oa, edu_ratios, income_params, size):\n",
    "   \n",
    "    edu = np.random.choice(4, size = size, p=edu_ratios[oa]) #where p values are effectively the ratio of people with a given education level\n",
    "    income = stats.beta.rvs(income_params[oa, 0], income_params[oa, 1], loc = income_params[oa, 2], scale = income_params[oa, 3], size=size)\n",
    "\n",
    "    attractivity = np.power(income, -edu)\n",
    "\n",
    "    return np.median(attractivity)\n",
    "\n",
    "\n",
    "\n",
    "# Median att matrix \n",
    "def median_attractivity(edu_ratios, income_params): #,fit = None):\n",
    "\n",
    "    \"\"\"\n",
    "    Average individual attractivity / lsoa (taken as a sample of 1000 ppl)\n",
    "    Sample is directinal - matrix not symmetrical\n",
    "    \"\"\"\n",
    "\n",
    "    attractivity = np.zeros((len(income_params)))\n",
    "    size = 10000\n",
    "\n",
    "    for i in range(len(income_params)):\n",
    "        attractivity[i] = attractivity_median_sampler(i, edu_ratios, income_params, size)\n",
    "\n",
    "    attractivity = attractivity.reshape((len(attractivity),1))\n",
    "\n",
    "    return attractivity\n"
   ]
  },
  {
   "cell_type": "code",
   "execution_count": 5,
   "id": "9c3e1f8c",
   "metadata": {},
   "outputs": [
    {
     "name": "stderr",
     "output_type": "stream",
     "text": [
      "/Users/ioana.jelea/opt/anaconda3/envs/lsoa_env/lib/python3.8/site-packages/numpy/core/fromnumeric.py:84: FutureWarning: In a future version, DataFrame.max(axis=None) will return a scalar max over the entire DataFrame. To retain the old behavior, use 'frame.max(axis=0)' or just 'frame.max()'\n",
      "  return reduction(axis=axis, out=out, **passkwargs)\n",
      "/Users/ioana.jelea/opt/anaconda3/envs/lsoa_env/lib/python3.8/site-packages/numpy/core/fromnumeric.py:84: FutureWarning: In a future version, DataFrame.min(axis=None) will return a scalar min over the entire DataFrame. To retain the old behavior, use 'frame.min(axis=0)' or just 'frame.min()'\n",
      "  return reduction(axis=axis, out=out, **passkwargs)\n"
     ]
    }
   ],
   "source": [
    "# Input data \n",
    "lsoa_data = load_obj(\"newdata_lsoa_data\")\n",
    "sheff_shape, income_params, edu_counts, edu_ratios = lsoa_data['sheff_lsoa_shape'], lsoa_data['income_params'], lsoa_data['edu_counts'], lsoa_data['edu_ratios']\n",
    "\n",
    "# k\n",
    "comp_ratio = np.load(\"resources/newdata_companyhouse.npy\")\n",
    "\n",
    "# distances\n",
    "paths_matrix = load_obj(\"newdata_ave_paths\")\n",
    "# removes all 0s not on the diag \n",
    "paths_matrix[paths_matrix==0] = 1\n",
    "paths_matrix[np.diag_indices_from(paths_matrix)] = 0\n",
    "\n",
    "# bus freq paths \n",
    "stoproute = pd.read_csv('resources/stoproute_withareacodes.csv')\n",
    "lsoa_list = pd.read_csv(\"resources/E47000002_KS101EW.csv\")['lsoa11cd']\n",
    "route_freqs = pd.read_csv('resources/Bus_routes_frequency.csv', usecols= [\"line\",\"average\"]).astype(str)\n",
    "m_paths = bus_adjacency(stoproute, lsoa_list, route_freqs)\n"
   ]
  },
  {
   "cell_type": "code",
   "execution_count": 6,
   "id": "d4b76038",
   "metadata": {},
   "outputs": [
    {
     "name": "stderr",
     "output_type": "stream",
     "text": [
      "/var/folders/9v/cwjxgbc17v9gt368p99ndkw80000gn/T/ipykernel_56306/2752484946.py:13: RuntimeWarning: divide by zero encountered in true_divide\n",
      "  connectivity = np.divide(attractivity_product, np.power(paths_matrix, m_paths))\n",
      "/var/folders/9v/cwjxgbc17v9gt368p99ndkw80000gn/T/ipykernel_56306/2752484946.py:13: RuntimeWarning: invalid value encountered in true_divide\n",
      "  connectivity = np.divide(attractivity_product, np.power(paths_matrix, m_paths))\n"
     ]
    }
   ],
   "source": [
    "attractivity_avg = median_attractivity(edu_ratios, income_params)\n",
    "\n",
    "#population amplification\n",
    "pop = np.asarray(edu_counts).reshape((len(edu_counts), 1))\n",
    "pop = np.matmul(pop, pop.transpose())\n",
    "\n",
    "#connectivity matrix\n",
    "attractivity_product = np.matmul(attractivity_avg, attractivity_avg.transpose())\n",
    "attractivity_product = np.multiply(attractivity_product, comp_ratio)\n"
   ]
  },
  {
   "cell_type": "code",
   "execution_count": 136,
   "id": "b533938e",
   "metadata": {},
   "outputs": [
    {
     "data": {
      "text/plain": [
       "853"
      ]
     },
     "execution_count": 136,
     "metadata": {},
     "output_type": "execute_result"
    }
   ],
   "source": [
    "len(paths_matrix[paths_matrix==0])"
   ]
  },
  {
   "cell_type": "code",
   "execution_count": 139,
   "id": "56bd3d7d",
   "metadata": {},
   "outputs": [
    {
     "data": {
      "text/plain": [
       "2678803.3980456237"
      ]
     },
     "execution_count": 139,
     "metadata": {},
     "output_type": "execute_result"
    }
   ],
   "source": [
    "np.sum(np.sum(connectivity, 1),0)"
   ]
  },
  {
   "cell_type": "code",
   "execution_count": 147,
   "id": "0ea05c93",
   "metadata": {},
   "outputs": [
    {
     "data": {
      "text/plain": [
       "2678803.398045624"
      ]
     },
     "execution_count": 147,
     "metadata": {},
     "output_type": "execute_result"
    }
   ],
   "source": [
    "np.sum(np.sum(connectivity))"
   ]
  },
  {
   "cell_type": "code",
   "execution_count": null,
   "id": "9ba45929",
   "metadata": {},
   "outputs": [],
   "source": []
  },
  {
   "cell_type": "code",
   "execution_count": 10,
   "id": "d1aa6dde",
   "metadata": {},
   "outputs": [],
   "source": [
    "# Example Problem \n",
    "\n",
    "import numpy as np\n",
    "from pymoo.core.problem import ElementwiseProblem\n",
    "\n",
    "class MyProblem(ElementwiseProblem):\n",
    "\n",
    "    def __init__(self):\n",
    "        super().__init__(n_var=2,\n",
    "                         n_obj=2,\n",
    "                         n_ieq_constr=2,\n",
    "                         xl=np.array([-2,-2]),\n",
    "                         xu=np.array([2,2]))\n",
    "\n",
    "    def _evaluate(self, x, out, *args, **kwargs):\n",
    "        f1 = 100 * (x[0]**2 + x[1]**2)\n",
    "        f2 = (x[0]-1)**2 + x[1]**2\n",
    "\n",
    "        g1 = 2*(x[0]-0.1) * (x[0]-0.9) / 0.18\n",
    "        g2 = - 20*(x[0]-0.4) * (x[0]-0.6) / 4.8\n",
    "\n",
    "        out[\"F\"] = [f1, f2]\n",
    "        out[\"G\"] = [g1, g2]\n",
    "\n",
    "\n",
    "problem = MyProblem()"
   ]
  },
  {
   "cell_type": "code",
   "execution_count": 155,
   "id": "1e3943d8",
   "metadata": {},
   "outputs": [
    {
     "name": "stderr",
     "output_type": "stream",
     "text": [
      "/var/folders/9v/cwjxgbc17v9gt368p99ndkw80000gn/T/ipykernel_46768/2135418558.py:1: RuntimeWarning: divide by zero encountered in true_divide\n",
      "  f = np.divide(attractivity_product, np.power(paths_matrix, m_paths)) # needs removing of inf/nan\n",
      "/var/folders/9v/cwjxgbc17v9gt368p99ndkw80000gn/T/ipykernel_46768/2135418558.py:1: RuntimeWarning: invalid value encountered in true_divide\n",
      "  f = np.divide(attractivity_product, np.power(paths_matrix, m_paths)) # needs removing of inf/nan\n"
     ]
    },
    {
     "data": {
      "text/plain": [
       "(-2678803.398045624, -35120.70885570184, 667293.4682583341)"
      ]
     },
     "execution_count": 155,
     "metadata": {},
     "output_type": "execute_result"
    }
   ],
   "source": [
    "# test function syntax\n",
    "f = np.divide(attractivity_product, np.power(paths_matrix, m_paths)) # needs removing of inf/nan\n",
    "f[np.where(np.isinf(f))[0], np.where(np.isinf(f))[1]] = 0\n",
    "f[np.diag_indices_from(f)] = 0\n",
    "f1 = - np.sum(np.sum(f))\n",
    "\n",
    "g1 = np.sum(np.sum(m_paths)) - 1.05 * np.sum(np.sum(m_paths))\n",
    "g2 = 0.95 * np.sum(np.sum(m_paths)) - np.sum(np.sum(m_paths))\n",
    "\n",
    "f1, g1, g2"
   ]
  },
  {
   "cell_type": "code",
   "execution_count": 158,
   "id": "ec8e217d",
   "metadata": {},
   "outputs": [
    {
     "data": {
      "text/plain": [
       "(727609, 727609)"
      ]
     },
     "execution_count": 158,
     "metadata": {},
     "output_type": "execute_result"
    }
   ],
   "source": [
    "len(m_paths)**2, 853*853"
   ]
  },
  {
   "cell_type": "markdown",
   "id": "503d9ae9",
   "metadata": {},
   "source": [
    "# Pymoo method"
   ]
  },
  {
   "cell_type": "code",
   "execution_count": 159,
   "id": "7360d2c1",
   "metadata": {},
   "outputs": [],
   "source": [
    "import numpy as np\n",
    "from pymoo.core.problem import Problem\n",
    "\n",
    "class MyProblem(Problem):\n",
    "\n",
    "    def __init__(self):\n",
    "        super().__init__(n_var=len(m_paths)**2,\n",
    "                         n_obj=1,\n",
    "                         n_ieq_constr=2,\n",
    "                         xl=np.array([0]),\n",
    "                         xu=np.array([2]))\n",
    "\n",
    "    def _evaluate(self, m, out, *args, **kwargs):\n",
    "        f = np.divide(attractivity_product, np.power(paths_matrix, m)) # needs removing of inf/nan\n",
    "        f[np.where(np.isinf(f))[0], np.where(np.isinf(f))[1]] = 0\n",
    "        f[np.diag_indices_from(f)] = 0\n",
    "        f1 = - np.sum(np.sum(f)) \n",
    "\n",
    "        g1 = np.sum(np.sum(m)) - 1.05 * np.sum(np.sum(m_paths))\n",
    "        g2 = 0.95 * np.sum(np.sum(m_paths)) - np.sum(np.sum(m))\n",
    "\n",
    "        out[\"F\"] = [f1]\n",
    "        out[\"G\"] = [g1, g2]\n",
    "\n",
    "\n",
    "problem = MyProblem()\n"
   ]
  },
  {
   "cell_type": "code",
   "execution_count": 160,
   "id": "f735b4c7",
   "metadata": {},
   "outputs": [],
   "source": [
    "from pymoo.algorithms.moo.nsga2 import NSGA2\n",
    "from pymoo.operators.crossover.sbx import SBX\n",
    "from pymoo.operators.mutation.pm import PM\n",
    "from pymoo.operators.sampling.rnd import FloatRandomSampling\n",
    "\n",
    "algorithm = NSGA2(\n",
    "    pop_size=len(m_paths)**2,\n",
    "#     n_offsprings=10,\n",
    "#     sampling=FloatRandomSampling(),\n",
    "#     crossover=SBX(prob=0.9, eta=15),\n",
    "#     mutation=PM(eta=20), \n",
    "#     eliminate_duplicates=True\n",
    ")\n"
   ]
  },
  {
   "cell_type": "code",
   "execution_count": 161,
   "id": "e0f81262",
   "metadata": {},
   "outputs": [],
   "source": [
    "from pymoo.core.termination import NoTermination\n",
    "\n",
    "termination = NoTermination() #termination condition needed, kernel died otherwise "
   ]
  },
  {
   "cell_type": "code",
   "execution_count": null,
   "id": "5d088cbd",
   "metadata": {},
   "outputs": [],
   "source": [
    "from pymoo.optimize import minimize\n",
    "\n",
    "res = minimize(problem,\n",
    "               algorithm,\n",
    "               termination,\n",
    "               seed=1,\n",
    "               save_history=True,\n",
    "               verbose=True)\n",
    "\n",
    "X = res.X\n",
    "F = res.F"
   ]
  },
  {
   "cell_type": "markdown",
   "id": "aea3ea46",
   "metadata": {},
   "source": [
    "# Test optimiser method - def"
   ]
  },
  {
   "cell_type": "code",
   "execution_count": 21,
   "id": "c07dd093",
   "metadata": {},
   "outputs": [],
   "source": [
    "from scipy.optimize import minimize\n",
    "\n",
    "# objective function - sum of connectivity\n",
    "def rosen(x):\n",
    "    \"\"\"The Rosenbrock function\"\"\"\n",
    "    return sum(100.0*(x[1:]-x[:-1]**2.0)**2.0 + (1-x[:-1])**2.0)\n",
    "\n",
    "# calculating the gradient of above function \n",
    "def rosen_der(x):\n",
    "    xm = x[1:-1]\n",
    "    xm_m1 = x[:-2]\n",
    "    xm_p1 = x[2:]\n",
    "    der = np.zeros_like(x)\n",
    "    der[1:-1] = 200*(xm-xm_m1**2) - 400*(xm_p1 - xm**2)*xm - 2*(1-xm)\n",
    "    der[0] = -400*x[0]*(x[1]-x[0]**2) - 2*(1-x[0])\n",
    "    der[-1] = 200*(x[-1]-x[-2]**2)\n",
    "    return der\n",
    "\n",
    "from scipy.optimize import Bounds\n",
    "bounds = Bounds([0, -0.5], [1.0, 2.0])"
   ]
  },
  {
   "cell_type": "code",
   "execution_count": 22,
   "id": "f2351b94",
   "metadata": {},
   "outputs": [],
   "source": [
    "ineq_cons = {'type': 'ineq',\n",
    "              'fun' : lambda x: np.array([1 - x[0] - 2*x[1],\n",
    "                                          1 - x[0]**2 - x[1],\n",
    "                                          1 - x[0]**2 + x[1]]),\n",
    "              'jac' : lambda x: np.array([[-1.0, -2.0],\n",
    "                                          [-2*x[0], -1.0],\n",
    "                                          [-2*x[0], 1.0]])}   #derivation from fun\n",
    "eq_cons = {'type': 'eq',\n",
    "            'fun' : lambda x: np.array([2*x[0] + x[1] - 1]),\n",
    "            'jac' : lambda x: np.array([2.0, 1.0])}"
   ]
  },
  {
   "cell_type": "code",
   "execution_count": 23,
   "id": "28b4e7e5",
   "metadata": {},
   "outputs": [
    {
     "name": "stdout",
     "output_type": "stream",
     "text": [
      "Optimization terminated successfully    (Exit mode 0)\n",
      "            Current function value: 0.34271757499419825\n",
      "            Iterations: 4\n",
      "            Function evaluations: 5\n",
      "            Gradient evaluations: 4\n",
      "[0.41494475 0.1701105 ]\n"
     ]
    }
   ],
   "source": [
    "x0 = np.array([0.5, 0])\n",
    ">>> res = minimize(rosen, x0, method='SLSQP', jac=rosen_der,\n",
    "...                constraints=[eq_cons, ineq_cons], options={'ftol': 1e-9, 'disp': True})\n",
    "...                #bounds=bounds)\n",
    "# may vary\n",
    "\n",
    ">>> print(res.x)\n"
   ]
  },
  {
   "cell_type": "code",
   "execution_count": 85,
   "id": "32aee541",
   "metadata": {},
   "outputs": [
    {
     "name": "stderr",
     "output_type": "stream",
     "text": [
      "/var/folders/9v/cwjxgbc17v9gt368p99ndkw80000gn/T/ipykernel_46768/1522794454.py:1: RuntimeWarning: divide by zero encountered in log\n",
      "  np.log(attractivity_product)\n"
     ]
    },
    {
     "data": {
      "text/plain": [
       "array([[2.61021563, 3.13270364, 3.68139844, ..., 3.12391036, 2.95254481,\n",
       "        4.3106923 ],\n",
       "       [3.13270364, 3.28685804, 3.83555284, ..., 3.29686221, 3.1459901 ,\n",
       "        4.4648467 ],\n",
       "       [3.68139844, 3.83555284, 4.38424763, ..., 3.84555701, 3.6946849 ,\n",
       "        5.01354149],\n",
       "       ...,\n",
       "       [3.12391036, 3.29686221, 3.84555701, ..., 3.28806893, 3.13719682,\n",
       "        4.47485087],\n",
       "       [2.95254481, 3.1459901 , 3.6946849 , ..., 3.13719682, 2.96583127,\n",
       "        4.32397876],\n",
       "       [4.3106923 , 4.4648467 , 5.01354149, ..., 4.47485087, 4.32397876,\n",
       "        5.49763436]])"
      ]
     },
     "execution_count": 85,
     "metadata": {},
     "output_type": "execute_result"
    }
   ],
   "source": [
    "np.log(attractivity_product)"
   ]
  },
  {
   "cell_type": "code",
   "execution_count": 86,
   "id": "cfe2ebbd",
   "metadata": {},
   "outputs": [
    {
     "data": {
      "text/plain": [
       "array([[ 13.60198359,  22.93590632,  39.7018759 , ...,  22.73510856,\n",
       "         19.15463669,  74.49204166],\n",
       "       [ 22.93590632,  26.75865693,  46.31902756, ...,  27.02769859,\n",
       "         23.24267674,  86.90770531],\n",
       "       [ 39.7018759 ,  46.31902756,  80.17787738, ...,  46.78473659,\n",
       "         40.23289312, 150.43656367],\n",
       "       ...,\n",
       "       [ 22.73510856,  27.02769859,  46.78473659, ...,  26.79107828,\n",
       "         23.03919329,  87.78150825],\n",
       "       [ 19.15463669,  23.24267674,  40.23289312, ...,  23.03919329,\n",
       "         19.41083219,  75.48838141],\n",
       "       [ 74.49204166,  86.90770531, 150.43656367, ...,  87.78150825,\n",
       "         75.48838141, 244.11376392]])"
      ]
     },
     "execution_count": 86,
     "metadata": {},
     "output_type": "execute_result"
    }
   ],
   "source": [
    "attractivity_product"
   ]
  },
  {
   "cell_type": "markdown",
   "id": "e3623251",
   "metadata": {},
   "source": [
    "# Implementation for bus network"
   ]
  },
  {
   "cell_type": "markdown",
   "id": "d4c8cb26",
   "metadata": {},
   "source": [
    "**(done)** remove all 0s not on diag from paths_matrix and replace with 1\n",
    "\n",
    "**(done)** pymoo - use 853 x 853 as number of variables \n",
    "\n",
    "**(done)** run optimizer without the jacobian mat \n",
    "\n",
    "**(done)** reshape m inside the function so that it is a 853 x 853 istead of a string - not rly working, maybe too big?"
   ]
  },
  {
   "cell_type": "code",
   "execution_count": 7,
   "id": "4ab31f1a",
   "metadata": {},
   "outputs": [],
   "source": [
    "# A_NEW = A[start_index_row : stop_index_row, \n",
    "#           start_index_column : stop_index_column]\n",
    "\n",
    "attractivity_p = attractivity_product[0:9,0:9]\n",
    "paths_mat = paths_matrix[0:9,0:9]\n",
    "m_pat = m_paths[0:9,0:9]"
   ]
  },
  {
   "cell_type": "code",
   "execution_count": 9,
   "id": "d7a9fdb9",
   "metadata": {},
   "outputs": [
    {
     "ename": "SyntaxError",
     "evalue": "invalid syntax (2812182226.py, line 33)",
     "output_type": "error",
     "traceback": [
      "\u001b[0;36m  Input \u001b[0;32mIn [9]\u001b[0;36m\u001b[0m\n\u001b[0;31m    x0 = np.random.rand(len(m_pat),len(m_pat))\u001b[0m\n\u001b[0m       ^\u001b[0m\n\u001b[0;31mSyntaxError\u001b[0m\u001b[0;31m:\u001b[0m invalid syntax\n"
     ]
    }
   ],
   "source": [
    "from scipy.optimize import minimize\n",
    "\n",
    "# test run for smaller matrix\n",
    "def m_opt(m):\n",
    "    \n",
    "    m = np.reshape(m,(len(m_pat),len(m_pat)))\n",
    "    f = np.divide(attractivity_p, np.power(paths_mat, m)) # needs removing of inf/nan\n",
    "    f[np.where(np.isinf(f))[0], np.where(np.isinf(f))[1]] = 0\n",
    "    f[np.diag_indices_from(f)] = 0\n",
    "    f1 = - np.sum(np.sum(f))\n",
    "    \n",
    "    return f1\n",
    "\n",
    "# # calculating the gradient of above function \n",
    "# def opt_der(m):\n",
    "#     m = np.reshape(m,(len(m_pat),len(m_pat)))\n",
    "#     der = np.zeros_like(m) # don't think it's needed \n",
    "#     der = np.multiply(attractivity_p, np.power(paths_mat, -m), -m)\n",
    "#     der = sum(sum(np.multiply(np.log(attractivity_p),der)))\n",
    "#     return der\n",
    "\n",
    "\n",
    "ineq_cons = {'type': 'ineq',\n",
    "              'fun' : lambda m: np.array([-1.05 * np.sum(np.sum(m_pat)) + np.sum(np.sum(m)),   #A1*sum M - sum m\n",
    "                                          -np.sum(np.sum(m)) + 0.95 * np.sum(np.sum(m_paths))])}  #sum m - A2*sum M\n",
    "              #'jac' : lambda m: np.array([[-1.0],\n",
    "                                          #[1.0]])}\n",
    "eq_cons = {'type': 'eq',\n",
    "            'fun' : lambda m: np.array(np.median(m)),\n",
    "            #'jac' : lambda m: np.array(0)}  #??\n",
    "\n",
    "\n",
    "x0 = np.random.rand(len(m_pat),len(m_pat))\n",
    "res = minimize(m_opt, x0, method='SLSQP', #jac=opt_der,\n",
    "            constraints=[eq_cons, ineq_cons], options={'ftol': 1e-9, 'disp': True})\n",
    "            #bounds=bounds)\n",
    "# may vary\n",
    "\n",
    "print(res.x)\n"
   ]
  },
  {
   "cell_type": "code",
   "execution_count": 44,
   "id": "3bac11f5",
   "metadata": {},
   "outputs": [
    {
     "data": {
      "text/plain": [
       "array([[1.        , 1.        , 1.        , 1.        , 1.        ,\n",
       "        1.        , 1.        , 1.        , 1.        ],\n",
       "       [1.        , 1.        , 0.16017428, 0.1168138 , 0.30491597,\n",
       "        0.1696565 , 1.        , 1.        , 1.        ],\n",
       "       [1.        , 0.16017428, 1.        , 0.16017428, 0.44164589,\n",
       "        0.21301698, 1.        , 1.        , 1.        ],\n",
       "       [1.        , 0.1168138 , 0.16017428, 1.        , 0.30491597,\n",
       "        0.1696565 , 1.        , 1.        , 1.        ],\n",
       "       [1.        , 0.30491597, 0.44164589, 0.30491597, 1.        ,\n",
       "        0.35775867, 1.        , 1.        , 1.        ],\n",
       "       [1.        , 0.1696565 , 0.21301698, 0.1696565 , 0.35775867,\n",
       "        1.        , 1.16648938, 1.20129597, 1.16648938],\n",
       "       [1.        , 1.        , 1.        , 1.        , 1.        ,\n",
       "        1.16648938, 1.        , 0.2170458 , 0.23296786],\n",
       "       [1.        , 1.        , 1.        , 1.        , 1.        ,\n",
       "        1.20129597, 0.2170458 , 1.        , 0.23298566],\n",
       "       [1.        , 1.        , 1.        , 1.        , 1.        ,\n",
       "        1.16648938, 0.23296786, 0.23298566, 1.        ]])"
      ]
     },
     "execution_count": 44,
     "metadata": {},
     "output_type": "execute_result"
    }
   ],
   "source": [
    "m_pat"
   ]
  },
  {
   "cell_type": "code",
   "execution_count": 10,
   "id": "a660078b",
   "metadata": {},
   "outputs": [],
   "source": [
    "from scipy.optimize import minimize\n",
    "\n",
    "# objective function - sum of connectivity\n",
    "def m_opt(m):\n",
    "    \n",
    "    m = np.reshape(m,(len(m_paths),len(m_paths)))\n",
    "    f = np.divide(attractivity_product, np.power(paths_matrix, m)) # needs removing of inf/nan\n",
    "    f[np.where(np.isinf(f))[0], np.where(np.isinf(f))[1]] = 0\n",
    "    f[np.diag_indices_from(f)] = 0\n",
    "    f1 = - np.sum(np.sum(f))\n",
    "    \n",
    "    return f1\n",
    "\n",
    "# don't use below for now\n",
    "\n",
    "# # calculating the gradient of above function \n",
    "# def opt_der(m):\n",
    "#     der = np.zeros_like(x) # don't think it's needed \n",
    "#     der = np.multiply(attractivity_product, np.power(paths_matrix, -m), -m)\n",
    "#     der = sum(sum(np.multiply(np.log(attractivity_product),der)))\n",
    "#     return der\n",
    "\n",
    "# # can try without the bounds - not change from rosenbrock\n",
    "# from scipy.optimize import Bounds\n",
    "# bounds = Bounds([0, -0.5], [1.0, 2.0])"
   ]
  },
  {
   "cell_type": "code",
   "execution_count": 11,
   "id": "f7a54186",
   "metadata": {},
   "outputs": [],
   "source": [
    "ineq_cons = {'type': 'ineq',\n",
    "              'fun' : lambda m: np.array([1.05 * np.sum(np.sum(m_paths)) - np.sum(np.sum(m)),   #A1*sum M - sum m\n",
    "                                          np.sum(np.sum(m)) - 0.95 * np.sum(np.sum(m_paths))])} #sum m - A2*sum M\n",
    "              #'jac' : lambda x: np.array([[-1.0],\n",
    "                                          #[1.0]])}\n",
    "eq_cons = {'type': 'eq',\n",
    "            'fun' : lambda m: np.array(np.median(m))}\n",
    "            #'jac' : lambda x: np.array(0)}  #??\n",
    "\n",
    "# try with 2 ineqs as well?"
   ]
  },
  {
   "cell_type": "code",
   "execution_count": null,
   "id": "935b3caa",
   "metadata": {},
   "outputs": [
    {
     "name": "stderr",
     "output_type": "stream",
     "text": [
      "/var/folders/9v/cwjxgbc17v9gt368p99ndkw80000gn/T/ipykernel_56306/3365054683.py:7: RuntimeWarning: divide by zero encountered in true_divide\n",
      "  f = np.divide(attractivity_product, np.power(paths_matrix, m)) # needs removing of inf/nan\n",
      "/var/folders/9v/cwjxgbc17v9gt368p99ndkw80000gn/T/ipykernel_56306/3365054683.py:7: RuntimeWarning: invalid value encountered in true_divide\n",
      "  f = np.divide(attractivity_product, np.power(paths_matrix, m)) # needs removing of inf/nan\n"
     ]
    }
   ],
   "source": [
    "x0 = np.ones_like(m_paths)\n",
    "res = minimize(m_opt, x0, method='SLSQP', #jac=opt_der,\n",
    "            constraints=[eq_cons, ineq_cons], options={'ftol': 1e-9, 'disp': True})\n",
    "            #bounds=bounds)\n",
    "# may vary\n",
    "\n",
    "print(res.x)\n"
   ]
  },
  {
   "cell_type": "code",
   "execution_count": 26,
   "id": "0f82fcb5",
   "metadata": {},
   "outputs": [
    {
     "data": {
      "text/plain": [
       "array([[1., 1., 1., ..., 1., 1., 1.],\n",
       "       [1., 1., 1., ..., 1., 1., 1.],\n",
       "       [1., 1., 1., ..., 1., 1., 1.],\n",
       "       ...,\n",
       "       [1., 1., 1., ..., 1., 1., 1.],\n",
       "       [1., 1., 1., ..., 1., 1., 1.],\n",
       "       [1., 1., 1., ..., 1., 1., 1.]])"
      ]
     },
     "execution_count": 26,
     "metadata": {},
     "output_type": "execute_result"
    }
   ],
   "source": [
    "x0"
   ]
  },
  {
   "cell_type": "code",
   "execution_count": 31,
   "id": "504a40f8",
   "metadata": {},
   "outputs": [
    {
     "data": {
      "text/plain": [
       "array([[1.        , 1.        , 1.        , ..., 1.        , 1.        ,\n",
       "        1.        ],\n",
       "       [1.        , 1.        , 0.16017428, ..., 1.        , 1.        ,\n",
       "        1.        ],\n",
       "       [1.        , 0.16017428, 1.        , ..., 1.        , 1.        ,\n",
       "        1.        ],\n",
       "       ...,\n",
       "       [1.        , 1.        , 1.        , ..., 1.        , 0.01653876,\n",
       "        1.        ],\n",
       "       [1.        , 1.        , 1.        , ..., 0.01653876, 1.        ,\n",
       "        1.        ],\n",
       "       [1.        , 1.        , 1.        , ..., 1.        , 1.        ,\n",
       "        1.        ]])"
      ]
     },
     "execution_count": 31,
     "metadata": {},
     "output_type": "execute_result"
    }
   ],
   "source": [
    "m_paths"
   ]
  }
 ],
 "metadata": {
  "kernelspec": {
   "display_name": "Python 3 (ipykernel)",
   "language": "python",
   "name": "python3"
  },
  "language_info": {
   "codemirror_mode": {
    "name": "ipython",
    "version": 3
   },
   "file_extension": ".py",
   "mimetype": "text/x-python",
   "name": "python",
   "nbconvert_exporter": "python",
   "pygments_lexer": "ipython3",
   "version": "3.8.13"
  }
 },
 "nbformat": 4,
 "nbformat_minor": 5
}
