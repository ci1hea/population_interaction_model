{
 "cells": [
  {
   "cell_type": "code",
   "execution_count": 15,
   "id": "3af6dda7",
   "metadata": {},
   "outputs": [],
   "source": [
    "import numpy as np\n",
    "import pandas as pd\n",
    "import os\n",
    "import geopandas as gpd\n",
    "from scipy import stats\n",
    "import scipy.optimize\n",
    "\n",
    "import powerlaw\n",
    "import pickle5 as pickle\n",
    "import seaborn as sns"
   ]
  },
  {
   "cell_type": "code",
   "execution_count": 16,
   "id": "30d15974",
   "metadata": {},
   "outputs": [],
   "source": [
    "def load_obj(name):\n",
    "    with open('resources/' + name + '.pkl', 'rb') as f:\n",
    "        return pickle.load(f)\n"
   ]
  },
  {
   "cell_type": "code",
   "execution_count": 10,
   "id": "9506318d",
   "metadata": {},
   "outputs": [],
   "source": [
    "pclookup = pd.read_csv(\"resources/PCD_OA_LSOA_MSOA_LAD_FEB20_UK_LU.csv\", encoding = \"ISO-8859-1\", low_memory=False)\n",
    "pclookup = pclookup[['lsoa11cd','msoa11cd']].copy().drop_duplicates()\n",
    "\n",
    "comp_data = pd.read_csv(\"resources/newdata_companyhouse.csv\")\n",
    "\n",
    "def convert_to_msoa(data):\n",
    "\n",
    "    data_df = pd.DataFrame(data)\n",
    "\n",
    "    data_df['lsoa11cd'] = comp_data['lsoa11cd']\n",
    "    data_row = pclookup.merge(data_df, left_on='lsoa11cd', right_on='lsoa11cd', how='right')\n",
    "    data_row = data_row.groupby('msoa11cd', as_index=False).sum()\n",
    "    data_trans = data_row.drop('msoa11cd', axis=1).T\n",
    "\n",
    "    data_trans['lsoa11cd'] = comp_data['lsoa11cd']\n",
    "    data_col = pclookup.merge(data_trans, left_on='lsoa11cd', right_on='lsoa11cd', how='right')\n",
    "    data_col = data_col.groupby('msoa11cd', as_index=False).sum()\n",
    "    data_col = data_col.drop('msoa11cd',axis=1).T\n",
    "\n",
    "    data_msoa = data_col.to_numpy()\n",
    "    data_msoa[np.where(np.isinf(data_msoa))[0], np.where(np.isinf(data_msoa))[1]] = 0\n",
    "\n",
    "\n",
    "    return data_msoa"
   ]
  },
  {
   "cell_type": "markdown",
   "id": "12a8724c",
   "metadata": {},
   "source": [
    "# B matrices "
   ]
  },
  {
   "cell_type": "code",
   "execution_count": 12,
   "id": "034d8237",
   "metadata": {},
   "outputs": [],
   "source": [
    "commute = pd.read_csv(\"resources/SCR_Commute_msoa_to_msoa.csv\")\n",
    "B_com = (\n",
    "        commute\n",
    "        .pivot_table(index=\"O_Code\", columns=\"D_Code\")#, values=\"Commuters\", aggfunc=len)\n",
    "        .fillna(0)\n",
    "        .astype(int)\n",
    "    )\n",
    "B_com = B_com.to_numpy()\n",
    "B_com[np.diag_indices_from(B_com)] = 0\n",
    "\n",
    "B_bf = pd.read_csv('lsoa2lsoa_zerosadded.csv').drop('lsoa11cd',axis=1)\n",
    "B_bf = B_bf.to_numpy()\n",
    "B_bf = convert_to_msoa(B_bf)"
   ]
  },
  {
   "cell_type": "markdown",
   "id": "f064ca87",
   "metadata": {},
   "source": [
    "# Adjacency matrices "
   ]
  },
  {
   "cell_type": "code",
   "execution_count": 22,
   "id": "0b5473e1",
   "metadata": {},
   "outputs": [],
   "source": [
    "def attractivity_median_sampler(oa, edu_ratios, income_params, size):\n",
    "    \"\"\"\n",
    "    Parameters\n",
    "    ----------\n",
    "    oa : Integer of oa\n",
    "\n",
    "    Returns\n",
    "    -------\n",
    "    attractivity\n",
    "\n",
    "    \"\"\"\n",
    "    edu = np.random.choice(4, size = size, p=edu_ratios[oa]) #where p values are effectively the ratio of people with a given education level\n",
    "    income = stats.beta.rvs(income_params[oa, 0], income_params[oa, 1], loc = income_params[oa, 2], scale = income_params[oa, 3], size=size)\n",
    "\n",
    "    attractivity = np.power(income, -edu)\n",
    "\n",
    "    return np.median(attractivity)\n",
    "\n",
    "\n",
    "def median_attractivity(edu_ratios, income_params): #,fit = None):\n",
    "\n",
    "    \"\"\"\n",
    "    Average individual attractivity / lsoa (taken as a sample of 1000 ppl)\n",
    "    Sample is directinal - matrix not symmetrical\n",
    "    \"\"\"\n",
    "\n",
    "    attractivity = np.zeros((len(income_params)))\n",
    "    size = 10000\n",
    "\n",
    "    for i in range(len(income_params)):\n",
    "        attractivity[i] = attractivity_median_sampler(i, edu_ratios, income_params, size)\n",
    "\n",
    "    attractivity = attractivity.reshape((len(attractivity),1))\n",
    "\n",
    "    return attractivity\n",
    "\n",
    "def bus_adjacency(stoproute,lsoa_list,route_freqs):\n",
    "    # Create matrix that combines location data and route frequencies\n",
    "    combine = pd.merge(stoproute, route_freqs, on='line')\n",
    "    combine = combine.drop_duplicates(['line', 'naptan_sto'])\n",
    "    combine = combine.rename(columns={'geo_code':'lsoa11cd'})\n",
    "\n",
    "    # Create adjacency matrix LSOA x route\n",
    "    bstopfreq = combine[['lsoa11cd', 'naptan_sto', 'line', 'average']]\n",
    "    adj = pd.pivot(bstopfreq,index=[\"lsoa11cd\", \"naptan_sto\"], columns=\"line\", values=\"average\").fillna(0)\n",
    "    adj = adj.astype(float)\n",
    "    adj = adj.groupby(level=\"lsoa11cd\").mean()\n",
    "    bus2route = pd.merge(lsoa_list, adj, how='left',on='lsoa11cd').set_index('lsoa11cd')\n",
    "\n",
    "    #Adjacency matrix LSOA x LSOA\n",
    "    bus2route = np.array(bus2route)\n",
    "    bus2routeT = bus2route.transpose()\n",
    "    lsoa2lsoa = np.dot(bus2route,bus2routeT)**0.5 #check that this actually does whay I think it does\n",
    "    lsoa2lsoa[np.diag_indices_from(lsoa2lsoa)] = 0\n",
    "\n",
    "    lsoa2lsoa = pd.DataFrame(lsoa2lsoa)\n",
    "    lsoa2lsoa = lsoa2lsoa.fillna(0)\n",
    "\n",
    "    #m values created\n",
    "    m_bus = np.round(lsoa2lsoa.copy(),0)\n",
    "    m_bus[m_bus>0]=np.log10(m_bus[m_bus>0])\n",
    "    m_bus=1-(m_bus/np.max(np.max(m_bus)))\n",
    "    m_bus[m_bus==0]=np.min(np.min(m_bus[m_bus!=0]))\n",
    "    \n",
    "    return m_bus.values"
   ]
  },
  {
   "cell_type": "markdown",
   "id": "3d60bfdd",
   "metadata": {},
   "source": [
    "## Choose m"
   ]
  },
  {
   "cell_type": "code",
   "execution_count": 25,
   "id": "4aef66b0",
   "metadata": {},
   "outputs": [
    {
     "name": "stderr",
     "output_type": "stream",
     "text": [
      "/Users/ioana.jelea/opt/anaconda3/envs/lsoa_env/lib/python3.8/site-packages/numpy/core/fromnumeric.py:84: FutureWarning: In a future version, DataFrame.max(axis=None) will return a scalar max over the entire DataFrame. To retain the old behavior, use 'frame.max(axis=0)' or just 'frame.max()'\n",
      "  return reduction(axis=axis, out=out, **passkwargs)\n",
      "/Users/ioana.jelea/opt/anaconda3/envs/lsoa_env/lib/python3.8/site-packages/numpy/core/fromnumeric.py:84: FutureWarning: In a future version, DataFrame.min(axis=None) will return a scalar min over the entire DataFrame. To retain the old behavior, use 'frame.min(axis=0)' or just 'frame.min()'\n",
      "  return reduction(axis=axis, out=out, **passkwargs)\n"
     ]
    }
   ],
   "source": [
    "# car input network\n",
    "m_paths_car = np.ones(np.shape(np.load(\"resources/newdata_m_paths_bus.npy\")))\n",
    "\n",
    "# bus freq input network\n",
    "stoproute = pd.read_csv('resources/stoproute_withareacodes.csv')\n",
    "lsoa_list = pd.read_csv(\"resources/E47000002_KS101EW.csv\")['lsoa11cd']\n",
    "route_freqs = pd.read_csv('resources/Bus_routes_frequency.csv', usecols= [\"line\",\"average\"]).astype(str)\n",
    "m_paths_bus = bus_adjacency(stoproute, lsoa_list, route_freqs)"
   ]
  },
  {
   "cell_type": "code",
   "execution_count": 26,
   "id": "4d888ea5",
   "metadata": {},
   "outputs": [
    {
     "name": "stderr",
     "output_type": "stream",
     "text": [
      "/var/folders/9v/cwjxgbc17v9gt368p99ndkw80000gn/T/ipykernel_22482/2906970124.py:18: RuntimeWarning: divide by zero encountered in true_divide\n",
      "  connectivity_bus = np.divide(attractivity_product, np.power(paths_matrix, m_paths_bus))\n",
      "/var/folders/9v/cwjxgbc17v9gt368p99ndkw80000gn/T/ipykernel_22482/2906970124.py:18: RuntimeWarning: invalid value encountered in true_divide\n",
      "  connectivity_bus = np.divide(attractivity_product, np.power(paths_matrix, m_paths_bus))\n",
      "/var/folders/9v/cwjxgbc17v9gt368p99ndkw80000gn/T/ipykernel_22482/2906970124.py:22: RuntimeWarning: divide by zero encountered in true_divide\n",
      "  connectivity_car = np.divide(attractivity_product, np.power(paths_matrix, m_paths_car))\n",
      "/var/folders/9v/cwjxgbc17v9gt368p99ndkw80000gn/T/ipykernel_22482/2906970124.py:22: RuntimeWarning: invalid value encountered in true_divide\n",
      "  connectivity_car = np.divide(attractivity_product, np.power(paths_matrix, m_paths_car))\n"
     ]
    }
   ],
   "source": [
    "lsoa_data = load_obj(\"newdata_lsoa_data\")\n",
    "income_params, edu_counts, edu_ratios = lsoa_data['income_params'], lsoa_data['edu_counts'], lsoa_data['edu_ratios']\n",
    "comp_ratio = np.load(\"resources/newdata_companyhouse.npy\")\n",
    "paths_matrix = load_obj(\"newdata_ave_paths\")\n",
    "\n",
    "# avg attractivity\n",
    "attractivity_avg = median_attractivity(edu_ratios, income_params)# 1)  ## no alpha and xmin returned\n",
    "\n",
    "#population amplification\n",
    "pop = np.asarray(edu_counts).reshape((len(edu_counts), 1))\n",
    "pop = np.matmul(pop, pop.transpose())\n",
    "\n",
    "#connectivity matrix\n",
    "attractivity_product = np.matmul(attractivity_avg, attractivity_avg.transpose())\n",
    "attractivity_product = np.multiply(attractivity_product, comp_ratio)\n",
    "\n",
    "#ensure 0 on diagonal?\n",
    "connectivity_bus = np.divide(attractivity_product, np.power(paths_matrix, m_paths_bus))\n",
    "connectivity_bus[np.where(np.isinf(connectivity_bus))[0], np.where(np.isinf(connectivity_bus))[1]] = 0\n",
    "connectivity_bus[np.diag_indices_from(connectivity_bus)] = 0\n",
    "\n",
    "connectivity_car = np.divide(attractivity_product, np.power(paths_matrix, m_paths_car))\n",
    "connectivity_car[np.where(np.isinf(connectivity_car))[0], np.where(np.isinf(connectivity_car))[1]] = 0\n",
    "connectivity_car[np.diag_indices_from(connectivity_car)] = 0"
   ]
  },
  {
   "cell_type": "code",
   "execution_count": 29,
   "id": "8bac0587",
   "metadata": {},
   "outputs": [],
   "source": [
    "theta_bus_com = 1.96\n",
    "theta_car_com = 0.21\n",
    "theta_bus_bf = 1.91\n",
    "theta_car_bf = 0.131"
   ]
  },
  {
   "cell_type": "code",
   "execution_count": 31,
   "id": "6e1ea049",
   "metadata": {},
   "outputs": [],
   "source": [
    "def frob_prod(theta, connectivity, pop, B): #, low_bound, high_bound, step):\n",
    "#     prod_max = 0\n",
    "#     prod_F = 0\n",
    "\n",
    "    #adjacency matrix\n",
    "    adjacency = np.zeros_like(connectivity)   \n",
    "    adjacency[np.where(connectivity>theta)] = 1\n",
    "\n",
    "    #assuming population amplificator is defined in main code\n",
    "    adjacency = np.multiply(adjacency,pop)\n",
    "\n",
    "    #convert data to msoa2msoa - assume lsoas and msoas already sorted\n",
    "    adjacency_msoa = convert_to_msoa(adjacency)\n",
    "\n",
    "    #normalising the data/row\n",
    "    A = adjacency_msoa/adjacency_msoa.sum(axis=1)[:,None]\n",
    "    A[np.isnan(A)] = 0\n",
    "    B_norm = B/B.sum(axis=1)[:,None]\n",
    "    B_norm[np.isnan(B_norm)] = 0\n",
    "\n",
    "    #Frobenius product\n",
    "    prod_F = np.sum(np.multiply(A, B_norm))\n",
    "        \n",
    "    return prod_F"
   ]
  },
  {
   "cell_type": "markdown",
   "id": "5f714eb0",
   "metadata": {},
   "source": [
    "# Frobenius product output for each theta"
   ]
  },
  {
   "cell_type": "code",
   "execution_count": 32,
   "id": "302c5ff2",
   "metadata": {},
   "outputs": [
    {
     "name": "stderr",
     "output_type": "stream",
     "text": [
      "/var/folders/9v/cwjxgbc17v9gt368p99ndkw80000gn/T/ipykernel_22482/2190211948.py:16: RuntimeWarning: invalid value encountered in true_divide\n",
      "  A = adjacency_msoa/adjacency_msoa.sum(axis=1)[:,None]\n",
      "/var/folders/9v/cwjxgbc17v9gt368p99ndkw80000gn/T/ipykernel_22482/2190211948.py:16: RuntimeWarning: invalid value encountered in true_divide\n",
      "  A = adjacency_msoa/adjacency_msoa.sum(axis=1)[:,None]\n",
      "/var/folders/9v/cwjxgbc17v9gt368p99ndkw80000gn/T/ipykernel_22482/2190211948.py:16: RuntimeWarning: invalid value encountered in true_divide\n",
      "  A = adjacency_msoa/adjacency_msoa.sum(axis=1)[:,None]\n",
      "/var/folders/9v/cwjxgbc17v9gt368p99ndkw80000gn/T/ipykernel_22482/2190211948.py:16: RuntimeWarning: invalid value encountered in true_divide\n",
      "  A = adjacency_msoa/adjacency_msoa.sum(axis=1)[:,None]\n"
     ]
    },
    {
     "data": {
      "text/plain": [
       "(6.0776451156038895, 4.1121853756840725, 11.72684445240872, 4.843270949661027)"
      ]
     },
     "execution_count": 32,
     "metadata": {},
     "output_type": "execute_result"
    }
   ],
   "source": [
    "F_prod_bus_comm = frob_prod(theta_bus_com, connectivity_bus, pop, B_com)\n",
    "F_prod_car_comm = frob_prod(theta_car_com, connectivity_car, pop, B_com)\n",
    "F_prod_bus_bf = frob_prod(theta_bus_bf, connectivity_bus, pop, B_bf)\n",
    "F_prod_car_bf = frob_prod(theta_car_bf, connectivity_car, pop, B_bf)\n",
    "\n",
    "F_prod_bus_comm, F_prod_car_comm, F_prod_bus_bf, F_prod_car_bf"
   ]
  },
  {
   "cell_type": "code",
   "execution_count": null,
   "id": "865741e3",
   "metadata": {},
   "outputs": [],
   "source": []
  },
  {
   "cell_type": "code",
   "execution_count": null,
   "id": "a0f277e8",
   "metadata": {},
   "outputs": [],
   "source": []
  },
  {
   "cell_type": "code",
   "execution_count": null,
   "id": "97825bb2",
   "metadata": {},
   "outputs": [],
   "source": []
  }
 ],
 "metadata": {
  "kernelspec": {
   "display_name": "Python 3 (ipykernel)",
   "language": "python",
   "name": "python3"
  },
  "language_info": {
   "codemirror_mode": {
    "name": "ipython",
    "version": 3
   },
   "file_extension": ".py",
   "mimetype": "text/x-python",
   "name": "python",
   "nbconvert_exporter": "python",
   "pygments_lexer": "ipython3",
   "version": "3.8.13"
  }
 },
 "nbformat": 4,
 "nbformat_minor": 5
}
