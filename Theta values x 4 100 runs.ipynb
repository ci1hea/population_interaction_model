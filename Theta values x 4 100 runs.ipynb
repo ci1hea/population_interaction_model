{
 "cells": [
  {
   "cell_type": "code",
   "execution_count": 36,
   "id": "f43e5362",
   "metadata": {},
   "outputs": [],
   "source": [
    "import numpy as np\n",
    "import pandas as pd\n",
    "import pickle5 as pickle\n",
    "from scipy import stats\n",
    "import powerlaw\n",
    "from matplotlib import pyplot as plt\n",
    "import seaborn as sns"
   ]
  },
  {
   "cell_type": "code",
   "execution_count": 51,
   "id": "a8fa711e",
   "metadata": {},
   "outputs": [],
   "source": [
    "def load_obj(name ):\n",
    "    with open( 'resources/' + name + '.pkl', 'rb') as f:\n",
    "        return pickle.load(f)"
   ]
  },
  {
   "cell_type": "code",
   "execution_count": 53,
   "id": "be2d1a1e",
   "metadata": {},
   "outputs": [],
   "source": [
    "car_comm = load_obj(\"normal_layout_optimise_for_theta_car_comm\")"
   ]
  },
  {
   "cell_type": "code",
   "execution_count": 37,
   "id": "49916b7b",
   "metadata": {},
   "outputs": [
    {
     "name": "stderr",
     "output_type": "stream",
     "text": [
      "/Users/ioana.jelea/opt/anaconda3/envs/lsoa_env/lib/python3.8/site-packages/seaborn/distributions.py:2619: FutureWarning: `distplot` is a deprecated function and will be removed in a future version. Please adapt your code to use either `displot` (a figure-level function with similar flexibility) or `histplot` (an axes-level function for histograms).\n",
      "  warnings.warn(msg, FutureWarning)\n"
     ]
    },
    {
     "data": {
      "text/plain": [
       "<AxesSubplot:ylabel='Density'>"
      ]
     },
     "execution_count": 37,
     "metadata": {},
     "output_type": "execute_result"
    },
    {
     "data": {
      "image/png": "[encoded data removed]",
      "text/plain": [
       "<Figure size 432x288 with 1 Axes>"
      ]
     },
     "metadata": {
      "needs_background": "light"
     },
     "output_type": "display_data"
    }
   ],
   "source": [
    "sns.distplot(car_comm['thetas_opt'])"
   ]
  },
  {
   "cell_type": "code",
   "execution_count": 39,
   "id": "363458cd",
   "metadata": {},
   "outputs": [
    {
     "data": {
      "text/plain": [
       "0.216"
      ]
     },
     "execution_count": 39,
     "metadata": {},
     "output_type": "execute_result"
    }
   ],
   "source": [
    "np.median(car_comm['thetas_opt'])"
   ]
  },
  {
   "cell_type": "code",
   "execution_count": 40,
   "id": "265e020c",
   "metadata": {},
   "outputs": [
    {
     "data": {
      "text/plain": [
       "0.20831000000000002"
      ]
     },
     "execution_count": 40,
     "metadata": {},
     "output_type": "execute_result"
    }
   ],
   "source": [
    "np.mean(car_comm['thetas_opt'])"
   ]
  },
  {
   "cell_type": "code",
   "execution_count": 32,
   "id": "e2439dca",
   "metadata": {},
   "outputs": [],
   "source": [
    "bus_comm = load_obj(\"normal_layout_optimise_for_theta_bus_comm\")"
   ]
  },
  {
   "cell_type": "code",
   "execution_count": 47,
   "id": "144d05bb",
   "metadata": {},
   "outputs": [],
   "source": [
    "bus_bf = load_obj(\"normal_layout_optimise_for_theta_bus_bf\")"
   ]
  },
  {
   "cell_type": "code",
   "execution_count": 44,
   "id": "8bc04eb6",
   "metadata": {},
   "outputs": [],
   "source": [
    "car_bf = load_obj(\"normal_layout_optimise_for_theta_car_bf\")"
   ]
  },
  {
   "cell_type": "code",
   "execution_count": 19,
   "id": "65e60bd2",
   "metadata": {},
   "outputs": [],
   "source": [
    "bus_freq_mat = load_obj(\"bus_freq_matrix\")"
   ]
  },
  {
   "cell_type": "markdown",
   "id": "bd862ee0",
   "metadata": {},
   "source": [
    "# Median thetas (use for running scenarios)"
   ]
  },
  {
   "cell_type": "code",
   "execution_count": 41,
   "id": "53da3c84",
   "metadata": {},
   "outputs": [
    {
     "data": {
      "text/plain": [
       "0.216"
      ]
     },
     "execution_count": 41,
     "metadata": {},
     "output_type": "execute_result"
    }
   ],
   "source": [
    "np.median(car_comm['thetas_opt'])"
   ]
  },
  {
   "cell_type": "code",
   "execution_count": 42,
   "id": "80fb3150",
   "metadata": {},
   "outputs": [
    {
     "data": {
      "text/plain": [
       "1.986"
      ]
     },
     "execution_count": 42,
     "metadata": {},
     "output_type": "execute_result"
    }
   ],
   "source": [
    "np.median(bus_comm['thetas_opt'])"
   ]
  },
  {
   "cell_type": "code",
   "execution_count": 45,
   "id": "f858c2a3",
   "metadata": {},
   "outputs": [
    {
     "data": {
      "text/plain": [
       "0.131"
      ]
     },
     "execution_count": 45,
     "metadata": {},
     "output_type": "execute_result"
    }
   ],
   "source": [
    "np.median(car_bf['thetas_opt'])"
   ]
  },
  {
   "cell_type": "code",
   "execution_count": 48,
   "id": "78096eb8",
   "metadata": {},
   "outputs": [
    {
     "data": {
      "text/plain": [
       "1.917"
      ]
     },
     "execution_count": 48,
     "metadata": {},
     "output_type": "execute_result"
    }
   ],
   "source": [
    "np.median(bus_bf['thetas_opt'])"
   ]
  }
 ],
 "metadata": {
  "kernelspec": {
   "display_name": "Python 3 (ipykernel)",
   "language": "python",
   "name": "python3"
  },
  "language_info": {
   "codemirror_mode": {
    "name": "ipython",
    "version": 3
   },
   "file_extension": ".py",
   "mimetype": "text/x-python",
   "name": "python",
   "nbconvert_exporter": "python",
   "pygments_lexer": "ipython3",
   "version": "3.8.13"
  }
 },
 "nbformat": 4,
 "nbformat_minor": 5
}
