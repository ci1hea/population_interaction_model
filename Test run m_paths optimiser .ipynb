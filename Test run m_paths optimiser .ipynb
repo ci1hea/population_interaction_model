{
 "cells": [
  {
   "cell_type": "code",
   "execution_count": 3,
   "id": "fbbd400e",
   "metadata": {},
   "outputs": [],
   "source": [
    "import numpy as np\n",
    "import pandas as pd\n",
    "import scipy.optimize\n",
    "from scipy import stats\n",
    "\n",
    "import powerlaw\n",
    "import pickle5 as pickle\n",
    "import seaborn as sns\n",
    "import matplotlib.pyplot as plt"
   ]
  },
  {
   "cell_type": "code",
   "execution_count": 4,
   "id": "a0c2383f",
   "metadata": {},
   "outputs": [],
   "source": [
    "#Unpickling the data\n",
    "def load_obj(name):\n",
    "    with open('resources/' + name + '.pkl', 'rb') as f:\n",
    "        return pickle.load(f)"
   ]
  },
  {
   "cell_type": "code",
   "execution_count": 71,
   "id": "788b1f20",
   "metadata": {},
   "outputs": [],
   "source": [
    "# Bus adjacency\n",
    "def bus_adjacency(stoproute,lsoa_list,route_freqs):\n",
    "    \n",
    "    # Create matrix that combines location data and route frequencies\n",
    "    combine = pd.merge(stoproute, route_freqs, on='line')\n",
    "    combine = combine.drop_duplicates(['line', 'naptan_sto'])\n",
    "    combine = combine.rename(columns={'geo_code':'lsoa11cd'})\n",
    "\n",
    "    # Create adjacency matrix LSOA x route\n",
    "    bstopfreq = combine[['lsoa11cd', 'naptan_sto', 'line', 'average']]\n",
    "    adj = pd.pivot(bstopfreq,index=[\"lsoa11cd\", \"naptan_sto\"], columns=\"line\", values=\"average\").fillna(0)\n",
    "    adj = adj.astype(float)\n",
    "    adj = adj.groupby(level=\"lsoa11cd\").mean()\n",
    "    bus2route = pd.merge(lsoa_list, adj, how='left',on='lsoa11cd').set_index('lsoa11cd')\n",
    "\n",
    "    #Adjacency matrix LSOA x LSOA\n",
    "    bus2route = np.array(bus2route)\n",
    "    bus2routeT = bus2route.transpose()\n",
    "    lsoa2lsoa = np.dot(bus2route,bus2routeT)**0.5 #check that this actually does whay I think it does\n",
    "    lsoa2lsoa[np.diag_indices_from(lsoa2lsoa)] = 0\n",
    "\n",
    "    lsoa2lsoa = pd.DataFrame(lsoa2lsoa)\n",
    "    lsoa2lsoa = lsoa2lsoa.fillna(0)\n",
    "\n",
    "    m values created - changed bit of code \n",
    "    m_bus = np.round(lsoa2lsoa.copy(),0)\n",
    "    m_bus[m_bus>0]=np.log10(m_bus[m_bus>0])\n",
    "    m_bus=1-(m_bus/np.max(np.max(m_bus)))\n",
    "    m_bus[m_bus==0]=np.min(np.min(m_bus[m_bus!=0]))\n",
    "    \n",
    "    # initial bit of code - gives values over 1 as max\n",
    "#     m_bus = lsoa2lsoa.copy()\n",
    "#     m_bus[m_bus>0]=np.log10(m_bus[m_bus>0])\n",
    "#     m_bus=1-(m_bus/np.max(np.max(m_bus)))\n",
    "    \n",
    "    return m_bus.values\n",
    "\n",
    "# Attractivity samples - median/neighbourhood, directional \n",
    "def attractivity_median_sampler(oa, edu_ratios, income_params, size):\n",
    "   \n",
    "    edu = np.random.choice(4, size = size, p=edu_ratios[oa]) #where p values are effectively the ratio of people with a given education level\n",
    "    income = stats.beta.rvs(income_params[oa, 0], income_params[oa, 1], loc = income_params[oa, 2], scale = income_params[oa, 3], size=size)\n",
    "\n",
    "    attractivity = np.power(income, -edu)\n",
    "\n",
    "    return np.median(attractivity)\n",
    "\n",
    "\n",
    "\n",
    "# Median att matrix \n",
    "def median_attractivity(edu_ratios, income_params): #,fit = None):\n",
    "\n",
    "    \"\"\"\n",
    "    Average individual attractivity / lsoa (taken as a sample of 1000 ppl)\n",
    "    Sample is directinal - matrix not symmetrical\n",
    "    \"\"\"\n",
    "\n",
    "    attractivity = np.zeros((len(income_params)))\n",
    "    size = 10000\n",
    "\n",
    "    for i in range(len(income_params)):\n",
    "        attractivity[i] = attractivity_median_sampler(i, edu_ratios, income_params, size)\n",
    "\n",
    "    attractivity = attractivity.reshape((len(attractivity),1))\n",
    "\n",
    "    return attractivity\n",
    "\n"
   ]
  },
  {
   "cell_type": "code",
   "execution_count": 72,
   "id": "b5ae4571",
   "metadata": {},
   "outputs": [
    {
     "name": "stderr",
     "output_type": "stream",
     "text": [
      "/Users/ioana.jelea/opt/anaconda3/envs/lsoa_env/lib/python3.8/site-packages/numpy/core/fromnumeric.py:84: FutureWarning: In a future version, DataFrame.max(axis=None) will return a scalar max over the entire DataFrame. To retain the old behavior, use 'frame.max(axis=0)' or just 'frame.max()'\n",
      "  return reduction(axis=axis, out=out, **passkwargs)\n"
     ]
    },
    {
     "data": {
      "text/plain": [
       "1.6065672400773927"
      ]
     },
     "execution_count": 72,
     "metadata": {},
     "output_type": "execute_result"
    }
   ],
   "source": [
    "test=bus_adjacency(stoproute, lsoa_list, route_freqs)\n",
    "\n",
    "np.max(test)"
   ]
  },
  {
   "cell_type": "code",
   "execution_count": 67,
   "id": "7da37202",
   "metadata": {},
   "outputs": [
    {
     "name": "stderr",
     "output_type": "stream",
     "text": [
      "/Users/ioana.jelea/opt/anaconda3/envs/lsoa_env/lib/python3.8/site-packages/numpy/core/fromnumeric.py:84: FutureWarning: In a future version, DataFrame.max(axis=None) will return a scalar max over the entire DataFrame. To retain the old behavior, use 'frame.max(axis=0)' or just 'frame.max()'\n",
      "  return reduction(axis=axis, out=out, **passkwargs)\n",
      "/Users/ioana.jelea/opt/anaconda3/envs/lsoa_env/lib/python3.8/site-packages/numpy/core/fromnumeric.py:84: FutureWarning: In a future version, DataFrame.min(axis=None) will return a scalar min over the entire DataFrame. To retain the old behavior, use 'frame.min(axis=0)' or just 'frame.min()'\n",
      "  return reduction(axis=axis, out=out, **passkwargs)\n",
      "/Users/ioana.jelea/opt/anaconda3/envs/lsoa_env/lib/python3.8/site-packages/seaborn/distributions.py:2619: FutureWarning: `distplot` is a deprecated function and will be removed in a future version. Please adapt your code to use either `displot` (a figure-level function with similar flexibility) or `histplot` (an axes-level function for histograms).\n",
      "  warnings.warn(msg, FutureWarning)\n"
     ]
    },
    {
     "data": {
      "text/plain": [
       "<AxesSubplot:ylabel='Density'>"
      ]
     },
     "execution_count": 67,
     "metadata": {},
     "output_type": "execute_result"
    },
    {
     "data": {
      "image/png": "[encoded data removed]",
      "text/plain": [
       "<Figure size 432x288 with 1 Axes>"
      ]
     },
     "metadata": {
      "needs_background": "light"
     },
     "output_type": "display_data"
    }
   ],
   "source": [
    "test=bus_adjacency(stoproute, lsoa_list, route_freqs)\n",
    "np.max(test)\n",
    "sns.distplot(test)"
   ]
  },
  {
   "cell_type": "markdown",
   "id": "a93fa27e",
   "metadata": {},
   "source": [
    "# Turning objective in a linear function - use 'linprog' for optimisation\n",
    "\n",
    "Be careful with var shapes and how they convert - keep track of positions"
   ]
  },
  {
   "cell_type": "code",
   "execution_count": 322,
   "id": "419d36a2",
   "metadata": {},
   "outputs": [
    {
     "name": "stdout",
     "output_type": "stream",
     "text": [
      "     con: array([9.79128600e-09, 1.04691367e-08])\n",
      "     fun: -505.97435889011126\n",
      " message: 'Optimization terminated successfully.'\n",
      "     nit: 4\n",
      "   slack: array([ 6.52783605e-10, -2.26780017e-09])\n",
      "  status: 0\n",
      " success: True\n",
      "       x: array([ 9.41025641,  5.17948718, -0.25641026,  1.64102564])\n"
     ]
    }
   ],
   "source": [
    "# Example problem \n",
    "import numpy as np\n",
    "from scipy.optimize import linprog\n",
    "\n",
    "# function - in my case A \n",
    "c = np.array([-29.0, -45.0, 0.0, 0.0])\n",
    "\n",
    "# inequality constraint - has to be in the form less than \n",
    "A_ub = np.array([[1.0, -1.0, -3.0, 0.0],\n",
    "                [-2.0, 3.0, 7.0, -3.0]])\n",
    "b_ub = np.array([5.0, -10.0])\n",
    "\n",
    "# equality constraint\n",
    "A_eq = np.array([[2.0, 8.0, 1.0, 0.0],\n",
    "                [4.0, 4.0, 0.0, 1.0]])\n",
    "b_eq = np.array([60.0, 60.0])\n",
    "\n",
    "x0_bounds = (0, None)\n",
    "x1_bounds = (0, 6)\n",
    "x2_bounds = (-np.inf, 0.5)  # +/- np.inf can be used instead of None\n",
    "x3_bounds = (-3.0, None)\n",
    "\n",
    "bounds = [x0_bounds, x1_bounds, x2_bounds, x3_bounds]\n",
    "\n",
    "result = linprog(c, A_ub=A_ub, b_ub=b_ub, A_eq=A_eq, b_eq=b_eq, bounds=bounds)\n",
    "print(result)"
   ]
  },
  {
   "cell_type": "code",
   "execution_count": 122,
   "id": "1b4f34c2",
   "metadata": {},
   "outputs": [
    {
     "data": {
      "text/plain": [
       "[(0, None), (0, 6), (-inf, 0.5), (-3.0, None)]"
      ]
     },
     "execution_count": 122,
     "metadata": {},
     "output_type": "execute_result"
    }
   ],
   "source": [
    "bounds"
   ]
  },
  {
   "cell_type": "code",
   "execution_count": 195,
   "id": "d2d291b6",
   "metadata": {},
   "outputs": [
    {
     "data": {
      "text/plain": [
       "[(1, 0),\n",
       " (1, 0),\n",
       " (1, 0),\n",
       " (1, 0),\n",
       " (1, 0),\n",
       " (1, 0),\n",
       " (1, 0),\n",
       " (1, 0),\n",
       " (1, 0),\n",
       " (1, 0)]"
      ]
     },
     "execution_count": 195,
     "metadata": {},
     "output_type": "execute_result"
    }
   ],
   "source": [
    "a = [1 for i in range(10)]\n",
    "b = [0 for i in range(10)]\n",
    "list(zip(a,b))"
   ]
  },
  {
   "cell_type": "markdown",
   "id": "6fd99ccb",
   "metadata": {},
   "source": [
    "## Loading in input data"
   ]
  },
  {
   "cell_type": "code",
   "execution_count": 8,
   "id": "72f2201c",
   "metadata": {},
   "outputs": [
    {
     "name": "stderr",
     "output_type": "stream",
     "text": [
      "/Users/ioana.jelea/opt/anaconda3/envs/lsoa_env/lib/python3.8/site-packages/numpy/core/fromnumeric.py:84: FutureWarning: In a future version, DataFrame.max(axis=None) will return a scalar max over the entire DataFrame. To retain the old behavior, use 'frame.max(axis=0)' or just 'frame.max()'\n",
      "  return reduction(axis=axis, out=out, **passkwargs)\n",
      "/Users/ioana.jelea/opt/anaconda3/envs/lsoa_env/lib/python3.8/site-packages/numpy/core/fromnumeric.py:84: FutureWarning: In a future version, DataFrame.min(axis=None) will return a scalar min over the entire DataFrame. To retain the old behavior, use 'frame.min(axis=0)' or just 'frame.min()'\n",
      "  return reduction(axis=axis, out=out, **passkwargs)\n"
     ]
    }
   ],
   "source": [
    "# attractivity product\n",
    "lsoa_data = load_obj(\"newdata_lsoa_data\")\n",
    "sheff_shape, income_params, edu_counts, edu_ratios = lsoa_data['sheff_lsoa_shape'], lsoa_data['income_params'], lsoa_data['edu_counts'], lsoa_data['edu_ratios']\n",
    "comp_ratio = np.load(\"resources/newdata_companyhouse.npy\")\n",
    "attractivity_avg = median_attractivity(edu_ratios, income_params)\n",
    "attractivity_product = np.matmul(attractivity_avg, attractivity_avg.transpose())\n",
    "attractivity_product = np.multiply(attractivity_product, comp_ratio)\n",
    "\n",
    "pop = np.asarray(edu_counts).reshape((len(edu_counts), 1))\n",
    "pop = np.matmul(pop, pop.transpose())\n",
    "\n",
    "attractivity_product = np.multiply(attractivity_product, pop)\n",
    "    \n",
    "# distances\n",
    "paths_matrix = load_obj(\"newdata_ave_paths\")\n",
    "# removes all 0s not on the diag \n",
    "paths_matrix[paths_matrix==0] = 1\n",
    "paths_matrix[np.diag_indices_from(paths_matrix)] = 0\n",
    "    \n",
    "# bus network\n",
    "stoproute = pd.read_csv('resources/stoproute_withareacodes.csv')\n",
    "lsoa_list = pd.read_csv(\"resources/E47000002_KS101EW.csv\")['lsoa11cd']\n",
    "route_freqs = pd.read_csv('resources/Bus_routes_frequency.csv', usecols= [\"line\",\"average\"]).astype(str)\n",
    "m_paths = bus_adjacency(stoproute, lsoa_list, route_freqs)\n",
    "    "
   ]
  },
  {
   "cell_type": "code",
   "execution_count": 66,
   "id": "fa817583",
   "metadata": {},
   "outputs": [
    {
     "name": "stderr",
     "output_type": "stream",
     "text": [
      "/var/folders/9v/cwjxgbc17v9gt368p99ndkw80000gn/T/ipykernel_97937/460277127.py:21: RuntimeWarning: divide by zero encountered in power\n",
      "  b = np.reshape(np.power(paths_mat,- m_pat),(len(m_pat),1))\n",
      "/var/folders/9v/cwjxgbc17v9gt368p99ndkw80000gn/T/ipykernel_97937/460277127.py:27: RuntimeWarning: divide by zero encountered in true_divide\n",
      "  bl = np.array([1/paths_mat[i] for i in range(len(paths_mat))])\n"
     ]
    },
    {
     "name": "stdout",
     "output_type": "stream",
     "text": [
      "     con: array([], dtype=float64)\n",
      "     fun: -24054624451.413742\n",
      " message: 'The algorithm terminated successfully and determined that the problem is unbounded.'\n",
      "     nit: 11\n",
      "   slack: array([-58.5775306])\n",
      "  status: 3\n",
      " success: False\n",
      "       x: array([0.00159132, 0.00366594, 0.0030547 , ..., 0.0026305 , 0.00932276,\n",
      "       0.82751083])\n"
     ]
    }
   ],
   "source": [
    "import numpy as np\n",
    "from scipy.optimize import linprog\n",
    "# from scipy.optimize import Bounds\n",
    "\n",
    "n=50\n",
    "att_p = attractivity_product[0:n,0:n]\n",
    "paths_mat = paths_matrix[0:n,0:n]\n",
    "m_pat = m_paths[0:n,0:n]\n",
    "\n",
    "paths_mat = np.reshape(paths_mat,(len(paths_mat)**2,1))\n",
    "m_pat = np.reshape(m_pat,(len(m_pat)**2,1))\n",
    "\n",
    "# function - in my case A \n",
    "c = - np.reshape(att_p,(1,len(att_p)**2))\n",
    "\n",
    "# inequality constraint - has to be in the form less than \n",
    "# A_ub = np.array([[ 1/len(m_pat) for i in range(len(m_pat))]])\n",
    "A_ub = np.array([[ 1 for i in range(len(m_pat))]])\n",
    "\n",
    "\n",
    "b = np.reshape(np.power(paths_mat,- m_pat),(len(m_pat),1))\n",
    "b[np.where(np.isinf(b))[0], np.where(np.isinf(b))[1]] = 0\n",
    "# b_ub = np.array([[np.mean(b_ub)]])\n",
    "b_ub = np.array([[np.sum(b)]])\n",
    "\n",
    "# bounds have been checked for shape \n",
    "bl = np.array([1/paths_mat[i] for i in range(len(paths_mat))])\n",
    "bl[np.where(np.isinf(bl))[0], np.where(np.isinf(bl))[1]] = 0\n",
    "bl = bl.flatten()\n",
    "bl = bl.tolist()\n",
    "\n",
    "bu = np.ones_like(paths_mat)\n",
    "bu = bu.flatten()\n",
    "bu = bu.tolist()\n",
    "\n",
    "bounds = list(zip(bl,bu))\n",
    "\n",
    "\n",
    "result = linprog(c, A_ub=A_ub, b_ub=b_ub[0], bounds=bounds)\n",
    "print(result)"
   ]
  },
  {
   "cell_type": "code",
   "execution_count": 61,
   "id": "96f8b766",
   "metadata": {},
   "outputs": [
    {
     "data": {
      "text/plain": [
       "[<matplotlib.lines.Line2D at 0x7fcaf2cc7400>]"
      ]
     },
     "execution_count": 61,
     "metadata": {},
     "output_type": "execute_result"
    },
    {
     "data": {
      "image/png": "[encoded data removed]",
      "text/plain": [
       "<Figure size 432x288 with 1 Axes>"
      ]
     },
     "metadata": {
      "needs_background": "light"
     },
     "output_type": "display_data"
    }
   ],
   "source": [
    "plt.plot(result.x)\n",
    "plt.plot(b)"
   ]
  },
  {
   "cell_type": "code",
   "execution_count": 62,
   "id": "5d6b8a5c",
   "metadata": {},
   "outputs": [
    {
     "data": {
      "text/plain": [
       "array([58.5775306])"
      ]
     },
     "execution_count": 62,
     "metadata": {},
     "output_type": "execute_result"
    }
   ],
   "source": [
    "np.sum(result.x) - b_ub[0]"
   ]
  },
  {
   "cell_type": "code",
   "execution_count": null,
   "id": "2396abef",
   "metadata": {},
   "outputs": [],
   "source": []
  }
 ],
 "metadata": {
  "kernelspec": {
   "display_name": "Python 3 (ipykernel)",
   "language": "python",
   "name": "python3"
  },
  "language_info": {
   "codemirror_mode": {
    "name": "ipython",
    "version": 3
   },
   "file_extension": ".py",
   "mimetype": "text/x-python",
   "name": "python",
   "nbconvert_exporter": "python",
   "pygments_lexer": "ipython3",
   "version": "3.8.13"
  }
 },
 "nbformat": 4,
 "nbformat_minor": 5
}
